{
 "cells": [
  {
   "cell_type": "markdown",
   "metadata": {},
   "source": [
    "Ok - we have to generate a spades set ourselves for the illumina only assemblies.\n",
    "\n",
    "First I think I need to somehow grab the spreadsheets from trish or other to organize things.\n",
    "\n",
    "I'll make a list here about where things are (just in md) then start getting it together."
   ]
  },
  {
   "cell_type": "markdown",
   "metadata": {},
   "source": [
    "First things first - let's load trish's spreadsheet"
   ]
  },
  {
   "cell_type": "code",
   "execution_count": 1,
   "metadata": {},
   "outputs": [],
   "source": [
    "import pandas as pd\n",
    "import glob\n",
    "import re\n",
    "import os"
   ]
  },
  {
   "cell_type": "code",
   "execution_count": 2,
   "metadata": {},
   "outputs": [
    {
     "name": "stdout",
     "output_type": "stream",
     "text": [
      "/atium/Data/Nanopore/cpowgs/trees/200811_timp_tree\n"
     ]
    }
   ],
   "source": [
    "workdir = '/atium/Data/nanopore/cpowgs/trees/200811_timp_tree/'\n",
    "%cd /atium/Data/Nanopore/cpowgs/trees/200811_timp_tree"
   ]
  },
  {
   "cell_type": "code",
   "execution_count": 3,
   "metadata": {},
   "outputs": [
    {
     "name": "stdout",
     "output_type": "stream",
     "text": [
      "encl\t     esco\t  from_trish_isolates.xlsx  klpn_spades  spades.out\n",
      "encl_spades  esco_spades  klpn\t\t\t    refs\n"
     ]
    }
   ],
   "source": [
    "!ls"
   ]
  },
  {
   "cell_type": "code",
   "execution_count": 4,
   "metadata": {},
   "outputs": [],
   "source": [
    "klpn=pd.read_excel(\"from_trish_isolates.xlsx\", sheet_name=\"KLPN\", skiprows=3, header=None, usecols=\"A:F\", names=[\"id\", \"cp\", \"cp_gene\", \"mlst\", \"repA\", \"year\"])\n",
    "encl=pd.read_excel(\"from_trish_isolates.xlsx\", sheet_name=\"ENCL\", skiprows=2, header=None, usecols=\"A:E\", names=[\"id\", \"cp\", \"cp_gene\", \"repA\", \"year\"])\n",
    "esco=pd.read_excel(\"from_trish_isolates.xlsx\", sheet_name=\"ESCO\", skiprows=2, header=None, usecols=\"A:F\", names=[\"id\", \"cp\", \"cp_gene\", \"mlst\", \"repA\", \"year\"])"
   ]
  },
  {
   "cell_type": "markdown",
   "metadata": {},
   "source": [
    "Ok - next thing to do, we need to look for the genomes\n",
    "We start with pilon polished genomes, then according to yfan spades genomes/illumina data, then nanopore only assemblies.  I'm not sure if that's the right. "
   ]
  },
  {
   "cell_type": "code",
   "execution_count": 5,
   "metadata": {},
   "outputs": [],
   "source": [
    "assemblydir='/atium/Data/Nanopore/cpowgs/assemblies/'\n",
    "illdirall='/atium/Data/Nanopore/cpowgs/illumina_*/'\n",
    "illdir1='/atium/Data/Nanopore/cpowgs/illumina_marcc/'\n",
    "illdir2='/atium/Data/Nanopore/cpowgs/illumina_2/'"
   ]
  },
  {
   "cell_type": "code",
   "execution_count": 6,
   "metadata": {},
   "outputs": [],
   "source": [
    "fullill=glob.glob(illdirall+\"*.fastq.gz\")"
   ]
  },
  {
   "cell_type": "code",
   "execution_count": 7,
   "metadata": {},
   "outputs": [
    {
     "data": {
      "text/plain": [
       "['/atium/Data/Nanopore/cpowgs/illumina_4/645KLPN_KLPN_S7_L001_R2_001.fastq.gz']"
      ]
     },
     "execution_count": 7,
     "metadata": {},
     "output_type": "execute_result"
    }
   ],
   "source": [
    "match=[f for f in fullill if re.search(r'645[^0-9.].*R2', f)]\n",
    "match"
   ]
  },
  {
   "cell_type": "code",
   "execution_count": 68,
   "metadata": {},
   "outputs": [],
   "source": [
    "def assembly_find(meta, label):\n",
    "    \"\"\"This function finds the pilon or illumina data for the samples from a meta file\"\"\"\n",
    "    meta[\"pilon\"]=\"\"\n",
    "    meta[\"spades\"]=\"\"\n",
    "    meta[\"illR1\"]=\"\"\n",
    "    meta[\"illR2\"]=\"\"\n",
    "    print(label+\":\")\n",
    "    for i in meta.index:\n",
    "        passemble=glob.glob(assemblydir+\"pilon/\"+\"*_\"+str(meta.id[i])+\".pilon*\")\n",
    "        if passemble:\n",
    "            meta.loc[i, 'pilon']=passemble\n",
    "        #look for spades\n",
    "        sassemble=glob.glob(label+\"_spades/\"+str(meta.id[i])+\"/scaffolds.fasta\")\n",
    "        if sassemble:\n",
    "            meta.loc[i, 'spades']=sassemble\n",
    "        #illumina\n",
    "        searchstring_r1=\"[^0-9S.]\"+str(meta.id[i])+\"[^0-9.].*R1\"\n",
    "        searchstring_r2=\"[^0-9S.]\"+str(meta.id[i])+\"[^0-9.].*R2\"\n",
    "        ill_r1=[f for f in fullill if re.search(searchstring_r1, f)]\n",
    "        ill_r2=[f for f in fullill if re.search(searchstring_r2, f)]\n",
    "        if ill_r1:\n",
    "            #print(ill)\n",
    "            meta.loc[i, 'illR1']=ill_r1[0]\n",
    "            meta.loc[i, 'illR2']=ill_r2[0]\n",
    "            #print(\"Yes Illumina in dir1\")\n",
    "    return(meta)"
   ]
  },
  {
   "cell_type": "code",
   "execution_count": 77,
   "metadata": {},
   "outputs": [],
   "source": [
    "def spades_assemble(meta, label, isolate=True):\n",
    "    for i in meta.index:\n",
    "        if not meta.pilon[i]:\n",
    "            if not meta.spades[i]:\n",
    "                if meta.illR1[i]:\n",
    "                    #let's run spades!\n",
    "                    #First trim trimmomatic\n",
    "                    !trimmomatic PE -quiet -threads 11 {meta.illR1[i]} {meta.illR2[i]} /tmp/read1.trim.fq.gz /tmp/read2.unpaired.fq.gz \\\n",
    "                        /tmp/read2.trim.fq.gz /tmp/read2.unpaired.fq.gz \\\n",
    "                        ILLUMINACLIP:/home/timp/miniconda3/envs/cpowgs/share/trimmomatic/adapters/NexteraPE-PE.fa:2:30:10 \\\n",
    "                        LEADING:10 TRAILING:10 SLIDINGWINDOW:4:20 MINLEN:40\n",
    "                    #then run spades\n",
    "                    if isolate: \n",
    "                        !spades.py -t 8 --isolate -1 /tmp/read1.trim.fq.gz -2 /tmp/read2.trim.fq.gz -o {label}_spades/{meta.id[i]} >{meta.id[i]}.spades.out\n",
    "                    else:\n",
    "                        !spades.py -t 8 -1 /tmp/read1.trim.fq.gz -2 /tmp/read2.trim.fq.gz -o {label}_spades/{meta.id[i]} >{meta.id[i]}.spades.out"
   ]
  },
  {
   "cell_type": "code",
   "execution_count": 93,
   "metadata": {},
   "outputs": [
    {
     "name": "stdout",
     "output_type": "stream",
     "text": [
      "klpn:\n",
      "esco:\n",
      "encl:\n"
     ]
    }
   ],
   "source": [
    "klpn=assembly_find(klpn, \"klpn\")\n",
    "esco=assembly_find(esco, \"esco\")\n",
    "encl=assembly_find(encl, \"encl\")\n"
   ]
  },
  {
   "cell_type": "code",
   "execution_count": 94,
   "metadata": {},
   "outputs": [],
   "source": [
    "encl.loc[encl.id==53, 'illR1']=\"/atium/Data/Nanopore/cpowgs/illumina_3/53ENCL_ENCL_S81_L002_R1_001.fastq.gz\"\n",
    "encl.loc[encl.id==53, 'illR2']=\"/atium/Data/Nanopore/cpowgs/illumina_3/53ENCL_ENCL_S81_L002_R2_001.fastq.gz\"\n",
    "encl.loc[encl.id==3, 'illR1']=\"/atium/Data/Nanopore/cpowgs/illumina_3/3ENCL_ENCL_S71_L002_R1_001.fastq.gz\"\n",
    "encl.loc[encl.id==3, 'illR2']=\"/atium/Data/Nanopore/cpowgs/illumina_3/3ENCL_ENCL_S71_L002_R2_001.fastq.gz\"\n",
    "encl.loc[encl.id==2, 'illR1']=\"\"\n",
    "encl.loc[encl.id==2, 'illR2']=\"\""
   ]
  },
  {
   "cell_type": "markdown",
   "metadata": {},
   "source": [
    "Ok - now what I have to do is dump the correct versions of each (pilon or spades) into a new folder"
   ]
  },
  {
   "cell_type": "markdown",
   "metadata": {},
   "source": [
    "!mkdir esco_spades\n",
    "!mkdir klpn_spades\n",
    "!mkdir encl_spades"
   ]
  },
  {
   "cell_type": "code",
   "execution_count": 95,
   "metadata": {},
   "outputs": [
    {
     "data": {
      "text/html": [
       "<div>\n",
       "<style scoped>\n",
       "    .dataframe tbody tr th:only-of-type {\n",
       "        vertical-align: middle;\n",
       "    }\n",
       "\n",
       "    .dataframe tbody tr th {\n",
       "        vertical-align: top;\n",
       "    }\n",
       "\n",
       "    .dataframe thead th {\n",
       "        text-align: right;\n",
       "    }\n",
       "</style>\n",
       "<table border=\"1\" class=\"dataframe\">\n",
       "  <thead>\n",
       "    <tr style=\"text-align: right;\">\n",
       "      <th></th>\n",
       "      <th>id</th>\n",
       "      <th>cp</th>\n",
       "      <th>cp_gene</th>\n",
       "      <th>mlst</th>\n",
       "      <th>repA</th>\n",
       "      <th>year</th>\n",
       "      <th>pilon</th>\n",
       "      <th>spades</th>\n",
       "      <th>illR1</th>\n",
       "      <th>illR2</th>\n",
       "    </tr>\n",
       "  </thead>\n",
       "  <tbody>\n",
       "    <tr>\n",
       "      <th>11</th>\n",
       "      <td>38</td>\n",
       "      <td>Non-CP</td>\n",
       "      <td>NaN</td>\n",
       "      <td>NaN</td>\n",
       "      <td>NaN</td>\n",
       "      <td>2016</td>\n",
       "      <td></td>\n",
       "      <td></td>\n",
       "      <td></td>\n",
       "      <td></td>\n",
       "    </tr>\n",
       "  </tbody>\n",
       "</table>\n",
       "</div>"
      ],
      "text/plain": [
       "    id      cp cp_gene mlst repA  year pilon spades illR1 illR2\n",
       "11  38  Non-CP     NaN  NaN  NaN  2016                         "
      ]
     },
     "metadata": {},
     "output_type": "display_data"
    },
    {
     "data": {
      "text/html": [
       "<div>\n",
       "<style scoped>\n",
       "    .dataframe tbody tr th:only-of-type {\n",
       "        vertical-align: middle;\n",
       "    }\n",
       "\n",
       "    .dataframe tbody tr th {\n",
       "        vertical-align: top;\n",
       "    }\n",
       "\n",
       "    .dataframe thead th {\n",
       "        text-align: right;\n",
       "    }\n",
       "</style>\n",
       "<table border=\"1\" class=\"dataframe\">\n",
       "  <thead>\n",
       "    <tr style=\"text-align: right;\">\n",
       "      <th></th>\n",
       "      <th>id</th>\n",
       "      <th>cp</th>\n",
       "      <th>cp_gene</th>\n",
       "      <th>repA</th>\n",
       "      <th>year</th>\n",
       "      <th>pilon</th>\n",
       "      <th>spades</th>\n",
       "      <th>illR1</th>\n",
       "      <th>illR2</th>\n",
       "    </tr>\n",
       "  </thead>\n",
       "  <tbody>\n",
       "    <tr>\n",
       "      <th>0</th>\n",
       "      <td>1</td>\n",
       "      <td>Non-CP</td>\n",
       "      <td>NaN</td>\n",
       "      <td>NaN</td>\n",
       "      <td>2016</td>\n",
       "      <td></td>\n",
       "      <td></td>\n",
       "      <td></td>\n",
       "      <td></td>\n",
       "    </tr>\n",
       "    <tr>\n",
       "      <th>1</th>\n",
       "      <td>2</td>\n",
       "      <td>Non-CP</td>\n",
       "      <td>NaN</td>\n",
       "      <td>NaN</td>\n",
       "      <td>2016</td>\n",
       "      <td></td>\n",
       "      <td></td>\n",
       "      <td></td>\n",
       "      <td></td>\n",
       "    </tr>\n",
       "  </tbody>\n",
       "</table>\n",
       "</div>"
      ],
      "text/plain": [
       "   id      cp cp_gene repA  year pilon spades illR1 illR2\n",
       "0   1  Non-CP     NaN  NaN  2016                         \n",
       "1   2  Non-CP     NaN  NaN  2016                         "
      ]
     },
     "metadata": {},
     "output_type": "display_data"
    },
    {
     "data": {
      "text/html": [
       "<div>\n",
       "<style scoped>\n",
       "    .dataframe tbody tr th:only-of-type {\n",
       "        vertical-align: middle;\n",
       "    }\n",
       "\n",
       "    .dataframe tbody tr th {\n",
       "        vertical-align: top;\n",
       "    }\n",
       "\n",
       "    .dataframe thead th {\n",
       "        text-align: right;\n",
       "    }\n",
       "</style>\n",
       "<table border=\"1\" class=\"dataframe\">\n",
       "  <thead>\n",
       "    <tr style=\"text-align: right;\">\n",
       "      <th></th>\n",
       "      <th>id</th>\n",
       "      <th>cp</th>\n",
       "      <th>cp_gene</th>\n",
       "      <th>mlst</th>\n",
       "      <th>repA</th>\n",
       "      <th>year</th>\n",
       "      <th>pilon</th>\n",
       "      <th>spades</th>\n",
       "      <th>illR1</th>\n",
       "      <th>illR2</th>\n",
       "    </tr>\n",
       "  </thead>\n",
       "  <tbody>\n",
       "  </tbody>\n",
       "</table>\n",
       "</div>"
      ],
      "text/plain": [
       "Empty DataFrame\n",
       "Columns: [id, cp, cp_gene, mlst, repA, year, pilon, spades, illR1, illR2]\n",
       "Index: []"
      ]
     },
     "metadata": {},
     "output_type": "display_data"
    }
   ],
   "source": [
    "display(klpn[(klpn.pilon=='') & (klpn.spades=='')])\n",
    "display(encl[(encl.pilon=='') & (encl.spades=='')])\n",
    "display(esco[(esco.pilon=='') & (esco.spades=='')])"
   ]
  },
  {
   "cell_type": "markdown",
   "metadata": {},
   "source": [
    "Spot fixing terrible naming"
   ]
  },
  {
   "cell_type": "code",
   "execution_count": 96,
   "metadata": {},
   "outputs": [],
   "source": [
    "klpn.to_csv(\"~/Dropbox/timplab_data/cpowgs/200907_tree/klpn.csv\")\n",
    "esco.to_csv(\"~/Dropbox/timplab_data/cpowgs/200907_tree/esco.csv\")\n",
    "encl.to_csv(\"~/Dropbox/timplab_data/cpowgs/200907_tree/encl.csv\")\n"
   ]
  },
  {
   "cell_type": "code",
   "execution_count": 97,
   "metadata": {},
   "outputs": [],
   "source": [
    "spades_assemble(klpn, \"klpn\")\n",
    "spades_assemble(esco, \"esco\")\n",
    "spades_assemble(encl, \"encl\")"
   ]
  },
  {
   "cell_type": "markdown",
   "metadata": {},
   "source": [
    "Ok - spades now done.  Let's take this and now start my normal tree stuff in the next notebook"
   ]
  }
 ],
 "metadata": {
  "kernelspec": {
   "display_name": "Python 3",
   "language": "python",
   "name": "python3"
  },
  "language_info": {
   "codemirror_mode": {
    "name": "ipython",
    "version": 3
   },
   "file_extension": ".py",
   "mimetype": "text/x-python",
   "name": "python",
   "nbconvert_exporter": "python",
   "pygments_lexer": "ipython3",
   "version": "3.9.1"
  }
 },
 "nbformat": 4,
 "nbformat_minor": 4
}
