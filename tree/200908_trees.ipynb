{
 "cells": [
  {
   "cell_type": "markdown",
   "metadata": {},
   "source": [
    "I have a couple things to do here.  MLST and trees.  First I need to load in the files from the previous notebook `200819_spades_ill_only.ipynb`"
   ]
  },
  {
   "cell_type": "markdown",
   "metadata": {},
   "source": [
    "Note - I lost a commit here due to a hard drive crash.  Essentially I had \"fixed\" some of the isolates that were incorrectly labeled.  \n",
    "\n",
    "We ended up dropping encl_86R, encl_449 because they are getting flagged as k.pneumo\n",
    "\n",
    "We also dropped klpn_pilon_613 and klpn_pilon_600 because they are K. quasipneumoniae - not true Kpn. To drop these, I copied the actual gff_encl to gff_full_encl, then deleted the non-clustered assemblies from the gff_encl. Same for gff_klpn.\n",
    "\n"
   ]
  },
  {
   "cell_type": "code",
   "execution_count": 9,
   "metadata": {},
   "outputs": [],
   "source": [
    "import pandas as pd\n",
    "import glob\n",
    "import os\n",
    "import re"
   ]
  },
  {
   "cell_type": "code",
   "execution_count": 2,
   "metadata": {},
   "outputs": [
    {
     "name": "stdout",
     "output_type": "stream",
     "text": [
      "/atium/Data/Nanopore/cpowgs/trees/200811_timp_tree\n"
     ]
    }
   ],
   "source": [
    "%cd /atium/Data/Nanopore/cpowgs/trees/200811_timp_tree"
   ]
  },
  {
   "cell_type": "code",
   "execution_count": 3,
   "metadata": {},
   "outputs": [],
   "source": [
    "klpn=pd.read_csv(\"~/Dropbox/timplab_data/cpowgs/200907_tree/klpn.csv\", keep_default_na=False)\n",
    "encl=pd.read_csv(\"~/Dropbox/timplab_data/cpowgs/200907_tree/encl.csv\", keep_default_na=False)\n",
    "esco=pd.read_csv(\"~/Dropbox/timplab_data/cpowgs/200907_tree/esco.csv\", keep_default_na=False)"
   ]
  },
  {
   "cell_type": "markdown",
   "metadata": {},
   "source": [
    "Ok - let's gather all the fasta"
   ]
  },
  {
   "cell_type": "code",
   "execution_count": 4,
   "metadata": {},
   "outputs": [],
   "source": [
    "def move_assemblies(meta, label):\n",
    "    \"\"\"This function collects the assemblies into directories with proper labels\"\"\"\n",
    "    for index, sample in meta.iterrows():\n",
    "        if sample.pilon:\n",
    "            !cp {sample.pilon} {label}/{label}_pilon_{sample.id}.fasta\n",
    "        else:\n",
    "            if sample.spades:\n",
    "                !cp {sample.spades} {label}/{label}_spades_{sample.id}.fasta\n"
   ]
  },
  {
   "cell_type": "code",
   "execution_count": 17,
   "metadata": {},
   "outputs": [],
   "source": [
    "move_assemblies(klpn, label='klpn')\n",
    "move_assemblies(encl, label='encl')\n",
    "move_assemblies(esco, label='esco')"
   ]
  },
  {
   "cell_type": "markdown",
   "metadata": {},
   "source": [
    "Next . . . MLST? How did I do that previously? Found it."
   ]
  },
  {
   "cell_type": "code",
   "execution_count": 19,
   "metadata": {},
   "outputs": [],
   "source": [
    "!mlst encl/*fasta --quiet --threads 8 --scheme ecloacae >encl_mlst.tsv\n",
    "!mlst esco/*fasta --quiet --threads 8 --scheme ecoli >esco_mlst.tsv\n",
    "!mlst klpn/*fasta --quiet --threads 8 --scheme kpneumoniae >klpn_mlst.tsv\n"
   ]
  },
  {
   "cell_type": "markdown",
   "metadata": {},
   "source": [
    "Clean any \"pilon\" names in the fasta"
   ]
  },
  {
   "cell_type": "code",
   "execution_count": 5,
   "metadata": {},
   "outputs": [],
   "source": [
    "!sed -i 's/_pilon//g' esco/*fasta\n",
    "!sed -i 's/_pilon//g' klpn/*fasta\n",
    "!sed -i 's/_pilon//g' encl/*fasta"
   ]
  },
  {
   "cell_type": "markdown",
   "metadata": {},
   "source": [
    "Ok - I need to pull down the genbank files for Enterobacter cloacae: https://ftp.ncbi.nlm.nih.gov/genomes/all/GCF/000/025/565/GCF_000025565.1_ASM2556v1/GCF_000025565.1_ASM2556v1_genomic.gbff.gz\n",
    "E. Coli: https://ftp.ncbi.nlm.nih.gov/genomes/all/GCF/000/005/845/GCF_000005845.2_ASM584v2/GCF_000005845.2_ASM584v2_genomic.gbff.gz\n",
    "and K. Pneumo: https://ftp.ncbi.nlm.nih.gov/genomes/all/GCF/000/240/185/GCF_000240185.1_ASM24018v2/GCF_000240185.1_ASM24018v2_genomic.gbff.gz"
   ]
  },
  {
   "cell_type": "code",
   "execution_count": 6,
   "metadata": {},
   "outputs": [
    {
     "name": "stdout",
     "output_type": "stream",
     "text": [
      "mkdir: cannot create directory ‘refs’: File exists\n",
      "/atium/Data/Nanopore/cpowgs/trees/200811_timp_tree/refs\n",
      "--2020-09-13 08:27:56--  https://ftp.ncbi.nlm.nih.gov/genomes/all/GCF/000/005/845/GCF_000005845.2_ASM584v2/GCF_000005845.2_ASM584v2_genomic.gbff.gz\n",
      "Resolving ftp.ncbi.nlm.nih.gov (ftp.ncbi.nlm.nih.gov)... 130.14.250.10, 2607:f220:41e:250::7, 2607:f220:41e:250::12, ...\n",
      "Connecting to ftp.ncbi.nlm.nih.gov (ftp.ncbi.nlm.nih.gov)|130.14.250.10|:443... connected.\n",
      "HTTP request sent, awaiting response... 200 OK\n",
      "Length: 3462090 (3.3M) [application/x-gzip]\n",
      "Saving to: ‘GCF_000005845.2_ASM584v2_genomic.gbff.gz’\n",
      "\n",
      "GCF_000005845.2_ASM 100%[===================>]   3.30M  15.7MB/s    in 0.2s    \n",
      "\n",
      "2020-09-13 08:27:56 (15.7 MB/s) - ‘GCF_000005845.2_ASM584v2_genomic.gbff.gz’ saved [3462090/3462090]\n",
      "\n",
      "--2020-09-13 08:27:57--  https://ftp.ncbi.nlm.nih.gov/genomes/all/GCF/000/025/565/GCF_000025565.1_ASM2556v1/GCF_000025565.1_ASM2556v1_genomic.gbff.gz\n",
      "Resolving ftp.ncbi.nlm.nih.gov (ftp.ncbi.nlm.nih.gov)... 130.14.250.10, 2607:f220:41e:250::11, 2607:f220:41e:250::10, ...\n",
      "Connecting to ftp.ncbi.nlm.nih.gov (ftp.ncbi.nlm.nih.gov)|130.14.250.10|:443... connected.\n",
      "HTTP request sent, awaiting response... 200 OK\n",
      "Length: 4003958 (3.8M) [application/x-gzip]\n",
      "Saving to: ‘GCF_000025565.1_ASM2556v1_genomic.gbff.gz’\n",
      "\n",
      "GCF_000025565.1_ASM 100%[===================>]   3.82M  12.8MB/s    in 0.3s    \n",
      "\n",
      "2020-09-13 08:27:58 (12.8 MB/s) - ‘GCF_000025565.1_ASM2556v1_genomic.gbff.gz’ saved [4003958/4003958]\n",
      "\n",
      "--2020-09-13 08:27:58--  https://ftp.ncbi.nlm.nih.gov/genomes/all/GCF/000/240/185/GCF_000240185.1_ASM24018v2/GCF_000240185.1_ASM24018v2_genomic.gbff.gz\n",
      "Resolving ftp.ncbi.nlm.nih.gov (ftp.ncbi.nlm.nih.gov)... 130.14.250.10, 2607:f220:41e:250::10, 2607:f220:41e:250::7, ...\n",
      "Connecting to ftp.ncbi.nlm.nih.gov (ftp.ncbi.nlm.nih.gov)|130.14.250.10|:443... connected.\n",
      "HTTP request sent, awaiting response... 200 OK\n",
      "Length: 4011962 (3.8M) [application/x-gzip]\n",
      "Saving to: ‘GCF_000240185.1_ASM24018v2_genomic.gbff.gz’\n",
      "\n",
      "GCF_000240185.1_ASM 100%[===================>]   3.83M  13.7MB/s    in 0.3s    \n",
      "\n",
      "2020-09-13 08:27:59 (13.7 MB/s) - ‘GCF_000240185.1_ASM24018v2_genomic.gbff.gz’ saved [4011962/4011962]\n",
      "\n",
      "/atium/Data/Nanopore/cpowgs/trees/200811_timp_tree\n"
     ]
    }
   ],
   "source": [
    "%mkdir refs\n",
    "%cd refs\n",
    "!wget https://ftp.ncbi.nlm.nih.gov/genomes/all/GCF/000/005/845/GCF_000005845.2_ASM584v2/GCF_000005845.2_ASM584v2_genomic.gbff.gz\n",
    "!gunzip *gz\n",
    "%mv *gbff ecoli_ref.gb\n",
    "!wget https://ftp.ncbi.nlm.nih.gov/genomes/all/GCF/000/025/565/GCF_000025565.1_ASM2556v1/GCF_000025565.1_ASM2556v1_genomic.gbff.gz\n",
    "!gunzip *gz\n",
    "%mv *gbff encl_ref.gb\n",
    "!wget https://ftp.ncbi.nlm.nih.gov/genomes/all/GCF/000/240/185/GCF_000240185.1_ASM24018v2/GCF_000240185.1_ASM24018v2_genomic.gbff.gz\n",
    "!gunzip *gz\n",
    "%mv *gbff kpn_ref.gb\n",
    "%cd .."
   ]
  },
  {
   "cell_type": "markdown",
   "metadata": {},
   "source": [
    "Ok - now prokka"
   ]
  },
  {
   "cell_type": "code",
   "execution_count": null,
   "metadata": {},
   "outputs": [
    {
     "name": "stdout",
     "output_type": "stream",
     "text": [
      "rm: cannot remove 'prok_encl': No such file or directory\n",
      "encl_spades_3\n"
     ]
    }
   ],
   "source": [
    "for spec in ['encl', 'esco', 'klpn']:\n",
    "    %rm -R prok_$spec\n",
    "    %rm -R gff_$spec\n",
    "    %mkdir gff_$spec\n",
    "    filelist=(glob.glob(spec+\"/*fasta\"))\n",
    "    for myfile in filelist:\n",
    "        tag=re.split('[\\/\\.]', myfile)[1]\n",
    "        print(tag)\n",
    "        outy='prok_'+spec+'/'+tag\n",
    "        ref='refs/'+spec+'_ref.gb'\n",
    "        !prokka --quiet --protein $ref --outdir $outy --prefix $tag --locustag $tag $myfile \n",
    "        %cp {outy}/*gff gff_$spec"
   ]
  },
  {
   "cell_type": "markdown",
   "metadata": {},
   "source": [
    "Ok - now let's try roary\n",
    "\n",
    "Roary says first https://github.com/microgenomics/tutorials/blob/master/pangenome.md\n",
    "you gotta organize the gff files"
   ]
  },
  {
   "cell_type": "code",
   "execution_count": null,
   "metadata": {},
   "outputs": [
    {
     "name": "stdout",
     "output_type": "stream",
     "text": [
      "Use of uninitialized value in require at /home/timp/miniconda3/envs/cpowgs/lib/site_perl/5.26.2/x86_64-linux-thread-multi/Encode.pm line 61.\n",
      "\n",
      "Please cite Roary if you use any of the results it produces:\n",
      "    Andrew J. Page, Carla A. Cummins, Martin Hunt, Vanessa K. Wong, Sandra Reuter, Matthew T. G. Holden, Maria Fookes, Daniel Falush, Jacqueline A. Keane, Julian Parkhill,\n",
      "\t\"Roary: Rapid large-scale prokaryote pan genome analysis\", Bioinformatics, 2015 Nov 15;31(22):3691-3693\n",
      "    doi: http://doi.org/10.1093/bioinformatics/btv421\n",
      "\tPubmed: 26198102\n",
      "\n",
      "Use of uninitialized value in require at /home/timp/miniconda3/envs/cpowgs/lib/site_perl/5.26.2/x86_64-linux-thread-multi/Encode.pm line 61.\n",
      "Use of uninitialized value in require at (eval 15229) line 1.\n"
     ]
    }
   ],
   "source": [
    "for spec in ['encl', 'esco', 'klpn']:\n",
    "    !roary -i 95 -f pan_{spec} -e -n -g 100000 -p 11 gff_{spec}/*gff"
   ]
  },
  {
   "cell_type": "markdown",
   "metadata": {},
   "source": [
    "Counting snps from the multi-fa using snp-sites tool"
   ]
  },
  {
   "cell_type": "markdown",
   "metadata": {},
   "source": [
    "I used to generate a `vcf` using `snp-sites` - then loaded it into R and calulcated the distance, but I no longer think that's necessary, thanks again to the awesome torst, he wrote a tool to do it directly from the aln."
   ]
  },
  {
   "cell_type": "code",
   "execution_count": 15,
   "metadata": {},
   "outputs": [
    {
     "name": "stdout",
     "output_type": "stream",
     "text": [
      "This is snp-dists 0.7.0\n",
      "Read 80 sequences of length 313503\n",
      "This is snp-dists 0.7.0\n",
      "Read 45 sequences of length 1042097\n",
      "This is snp-dists 0.7.0\n",
      "Read 120 sequences of length 178733\n"
     ]
    }
   ],
   "source": [
    "for spec in ['encl', 'esco', 'klpn']: \n",
    "    !snp-dists -c pan_{spec}/core_gene_alignment.aln >pan_{spec}/core_gene_alignment_count.csv"
   ]
  },
  {
   "cell_type": "markdown",
   "metadata": {
    "jupyter": {
     "source_hidden": true
    }
   },
   "source": [
    "Ok - that generated a pan genome and core alignment file which is already getting me close.  I then ran it in geneious, but let me take a guess and try to run in raxml\n",
    "some tips:\n",
    "-p is a random parsimony seed - to make sure analysis does the same thing\n",
    "-m GTRGAMMA - GTR GAMMA method\n",
    "-x is the rapid bootstrapping seed\n",
    "-N is the number of bootstrapops\n",
    "-f a says do rapid bootstrap"
   ]
  },
  {
   "cell_type": "code",
   "execution_count": null,
   "metadata": {
    "collapsed": true,
    "jupyter": {
     "outputs_hidden": true
    }
   },
   "outputs": [
    {
     "name": "stdout",
     "output_type": "stream",
     "text": [
      "rm: cannot remove 'raxml_encl': No such file or directory\n",
      "/atium/Data/Nanopore/cpowgs/trees/200811_timp_tree/raxml_encl\n",
      "\n",
      "RAxML can't, parse the alignment file as phylip file \n",
      "it will now try to parse it as FASTA file\n",
      "\n",
      "\n",
      "\n",
      "Using BFGS method to optimize GTR rate parameters, to disable this specify \"--no-bfgs\" \n",
      "\n",
      "\n",
      "This is the RAxML Master Pthread\n",
      "\n",
      "This is RAxML Worker Pthread Number: 3\n",
      "\n",
      "This is RAxML Worker Pthread Number: 5\n",
      "\n",
      "This is RAxML Worker Pthread Number: 2\n",
      "\n",
      "This is RAxML Worker Pthread Number: 4\n",
      "\n",
      "This is RAxML Worker Pthread Number: 6\n",
      "\n",
      "This is RAxML Worker Pthread Number: 7\n",
      "\n",
      "This is RAxML Worker Pthread Number: 8\n",
      "\n",
      "This is RAxML Worker Pthread Number: 10\n",
      "\n",
      "This is RAxML Worker Pthread Number: 9\n",
      "\n",
      "This is RAxML Worker Pthread Number: 1\n",
      "\n",
      "\n",
      "This is RAxML version 8.2.12 released by Alexandros Stamatakis on May 2018.\n",
      "\n",
      "With greatly appreciated code contributions by:\n",
      "Andre Aberer      (HITS)\n",
      "Simon Berger      (HITS)\n",
      "Alexey Kozlov     (HITS)\n",
      "Kassian Kobert    (HITS)\n",
      "David Dao         (KIT and HITS)\n",
      "Sarah Lutteropp   (KIT and HITS)\n",
      "Nick Pattengale   (Sandia)\n",
      "Wayne Pfeiffer    (SDSC)\n",
      "Akifumi S. Tanabe (NRIFS)\n",
      "Charlie Taylor    (UF)\n",
      "\n",
      "\n",
      "Alignment has 33692 distinct alignment patterns\n",
      "\n",
      "Proportion of gaps and completely undetermined characters in this alignment: 1.08%\n",
      "\n",
      "RAxML rapid bootstrapping and subsequent ML search\n",
      "\n",
      "Using 1 distinct models/data partitions with joint branch length optimization\n",
      "\n",
      "\n",
      "\n",
      "Executing 100 rapid bootstrap inferences and thereafter a thorough ML search \n",
      "\n",
      "All free model parameters will be estimated by RAxML\n",
      "GAMMA model of rate heterogeneity, ML estimate of alpha-parameter\n",
      "\n",
      "GAMMA Model parameters will be estimated up to an accuracy of 0.1000000000 Log Likelihood units\n",
      "\n",
      "Partition: 0\n",
      "Alignment Patterns: 33692\n",
      "Name: No Name Provided\n",
      "DataType: DNA\n",
      "Substitution Matrix: GTR\n",
      "\n",
      "\n",
      "\n",
      "\n",
      "RAxML was called as follows:\n",
      "\n",
      "raxmlHPC-PTHREADS -T 11 -f a -m GTRGAMMA -p 53243 -x 72341 -s ../pan_encl/core_gene_alignment.aln -N 100 -n testrapid.tree \n",
      "\n",
      "\n",
      "\n",
      "Time for BS model parameter optimization 15.330737\n",
      "Bootstrap[0]: Time 82.930479 seconds, bootstrap likelihood -1410152.126294, best rearrangement setting 5\n",
      "Bootstrap[1]: Time 57.729110 seconds, bootstrap likelihood -1418127.908246, best rearrangement setting 11\n",
      "Bootstrap[2]: Time 75.331323 seconds, bootstrap likelihood -1420236.933804, best rearrangement setting 10\n"
     ]
    }
   ],
   "source": [
    "for spec in ['encl', 'esco', 'klpn']:\n",
    "    %rm -R raxml_{spec}\n",
    "    %mkdir raxml_{spec}\n",
    "    %cd raxml_{spec}\n",
    "    !raxmlHPC-PTHREADS -T 11 -f a -m GTRGAMMA -p 53243 -x 72341 -s ../pan_{spec}/core_gene_alignment.aln -N 100 -n testrapid.tree\n",
    "    %cd .."
   ]
  }
 ],
 "metadata": {
  "kernelspec": {
   "display_name": "Python 3",
   "language": "python",
   "name": "python3"
  },
  "language_info": {
   "codemirror_mode": {
    "name": "ipython",
    "version": 3
   },
   "file_extension": ".py",
   "mimetype": "text/x-python",
   "name": "python",
   "nbconvert_exporter": "python",
   "pygments_lexer": "ipython3",
   "version": "3.8.5"
  }
 },
 "nbformat": 4,
 "nbformat_minor": 4
}
