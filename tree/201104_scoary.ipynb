{
 "cells": [
  {
   "cell_type": "markdown",
   "metadata": {},
   "source": [
    "Ok - let's try to run scoary.\n",
    "\n",
    "First, I installed using `pip install scoary` - no issues\n"
   ]
  },
  {
   "cell_type": "markdown",
   "metadata": {},
   "source": [
    "Now let's pull over trish's csv"
   ]
  },
  {
   "cell_type": "code",
   "execution_count": 6,
   "metadata": {},
   "outputs": [
    {
     "name": "stdout",
     "output_type": "stream",
     "text": [
      "/home/timp/scoary\n"
     ]
    }
   ],
   "source": [
    "%cd ~/scoary\n",
    "!rclone sync dbox:/timplab_data/cpowgs/201104_scoary/ ~/scoary/\n",
    "!rclone copy dbox:/timplab_data/cpowgs/201103_tree/klpn.csv ~/scoary/"
   ]
  },
  {
   "cell_type": "code",
   "execution_count": 69,
   "metadata": {},
   "outputs": [],
   "source": [
    "import pandas as pd\n",
    "import numpy as np"
   ]
  },
  {
   "cell_type": "markdown",
   "metadata": {},
   "source": [
    "Note - the keep_default_na False is really important for keeping empty strings empty, IMO."
   ]
  },
  {
   "cell_type": "code",
   "execution_count": 124,
   "metadata": {},
   "outputs": [
    {
     "data": {
      "text/html": [
       "<div>\n",
       "<style scoped>\n",
       "    .dataframe tbody tr th:only-of-type {\n",
       "        vertical-align: middle;\n",
       "    }\n",
       "\n",
       "    .dataframe tbody tr th {\n",
       "        vertical-align: top;\n",
       "    }\n",
       "\n",
       "    .dataframe thead th {\n",
       "        text-align: right;\n",
       "    }\n",
       "</style>\n",
       "<table border=\"1\" class=\"dataframe\">\n",
       "  <thead>\n",
       "    <tr style=\"text-align: right;\">\n",
       "      <th></th>\n",
       "      <th>Unnamed: 0</th>\n",
       "      <th>id</th>\n",
       "      <th>cp</th>\n",
       "      <th>cp_gene</th>\n",
       "      <th>mlst</th>\n",
       "      <th>repA</th>\n",
       "      <th>year</th>\n",
       "      <th>pilon</th>\n",
       "      <th>spades</th>\n",
       "      <th>illR1</th>\n",
       "      <th>illR2</th>\n",
       "    </tr>\n",
       "  </thead>\n",
       "  <tbody>\n",
       "    <tr>\n",
       "      <th>0</th>\n",
       "      <td>0</td>\n",
       "      <td>6</td>\n",
       "      <td>CP</td>\n",
       "      <td>KPC-3</td>\n",
       "      <td>ST-16</td>\n",
       "      <td>Yes</td>\n",
       "      <td>2016</td>\n",
       "      <td>/atium/Data/Nanopore/cpowgs/assemblies/pilon/K...</td>\n",
       "      <td></td>\n",
       "      <td>/atium/Data/Nanopore/cpowgs/illumina_marcc/KLP...</td>\n",
       "      <td>/atium/Data/Nanopore/cpowgs/illumina_marcc/KLP...</td>\n",
       "    </tr>\n",
       "    <tr>\n",
       "      <th>1</th>\n",
       "      <td>1</td>\n",
       "      <td>9</td>\n",
       "      <td>CP</td>\n",
       "      <td>KPC-2</td>\n",
       "      <td>ST-258</td>\n",
       "      <td></td>\n",
       "      <td>2016</td>\n",
       "      <td>/atium/Data/Nanopore/cpowgs/assemblies/pilon/K...</td>\n",
       "      <td></td>\n",
       "      <td>/atium/Data/Nanopore/cpowgs/illumina_marcc/KLP...</td>\n",
       "      <td>/atium/Data/Nanopore/cpowgs/illumina_marcc/KLP...</td>\n",
       "    </tr>\n",
       "    <tr>\n",
       "      <th>2</th>\n",
       "      <td>2</td>\n",
       "      <td>16</td>\n",
       "      <td>Non-CP</td>\n",
       "      <td></td>\n",
       "      <td>ST-268</td>\n",
       "      <td></td>\n",
       "      <td>2016</td>\n",
       "      <td>/atium/Data/Nanopore/cpowgs/assemblies/pilon/K...</td>\n",
       "      <td></td>\n",
       "      <td>/atium/Data/Nanopore/cpowgs/illumina_marcc/KLP...</td>\n",
       "      <td>/atium/Data/Nanopore/cpowgs/illumina_marcc/KLP...</td>\n",
       "    </tr>\n",
       "    <tr>\n",
       "      <th>3</th>\n",
       "      <td>3</td>\n",
       "      <td>19</td>\n",
       "      <td>CP</td>\n",
       "      <td>KPC-3</td>\n",
       "      <td>ST-11</td>\n",
       "      <td>Yes</td>\n",
       "      <td>2016</td>\n",
       "      <td>/atium/Data/Nanopore/cpowgs/assemblies/pilon/K...</td>\n",
       "      <td></td>\n",
       "      <td>/atium/Data/Nanopore/cpowgs/illumina_marcc/KLP...</td>\n",
       "      <td>/atium/Data/Nanopore/cpowgs/illumina_marcc/KLP...</td>\n",
       "    </tr>\n",
       "    <tr>\n",
       "      <th>4</th>\n",
       "      <td>4</td>\n",
       "      <td>21</td>\n",
       "      <td>Non-CP</td>\n",
       "      <td></td>\n",
       "      <td>ST-17</td>\n",
       "      <td></td>\n",
       "      <td>2016</td>\n",
       "      <td>/atium/Data/Nanopore/cpowgs/assemblies/pilon/K...</td>\n",
       "      <td></td>\n",
       "      <td>/atium/Data/Nanopore/cpowgs/illumina_marcc/KLP...</td>\n",
       "      <td>/atium/Data/Nanopore/cpowgs/illumina_marcc/KLP...</td>\n",
       "    </tr>\n",
       "    <tr>\n",
       "      <th>...</th>\n",
       "      <td>...</td>\n",
       "      <td>...</td>\n",
       "      <td>...</td>\n",
       "      <td>...</td>\n",
       "      <td>...</td>\n",
       "      <td>...</td>\n",
       "      <td>...</td>\n",
       "      <td>...</td>\n",
       "      <td>...</td>\n",
       "      <td>...</td>\n",
       "      <td>...</td>\n",
       "    </tr>\n",
       "    <tr>\n",
       "      <th>116</th>\n",
       "      <td>116</td>\n",
       "      <td>640</td>\n",
       "      <td>CP</td>\n",
       "      <td>KPC-2</td>\n",
       "      <td>ST-258</td>\n",
       "      <td>Yes</td>\n",
       "      <td>2018</td>\n",
       "      <td>/atium/Data/Nanopore/cpowgs/assemblies/pilon/K...</td>\n",
       "      <td></td>\n",
       "      <td>/atium/Data/Nanopore/cpowgs/illumina_marcc/KLP...</td>\n",
       "      <td>/atium/Data/Nanopore/cpowgs/illumina_marcc/KLP...</td>\n",
       "    </tr>\n",
       "    <tr>\n",
       "      <th>117</th>\n",
       "      <td>117</td>\n",
       "      <td>643</td>\n",
       "      <td>Non-CP</td>\n",
       "      <td></td>\n",
       "      <td>ST-15</td>\n",
       "      <td></td>\n",
       "      <td>2018</td>\n",
       "      <td></td>\n",
       "      <td>klpn_spades/643/scaffolds.fasta</td>\n",
       "      <td>/atium/Data/Nanopore/cpowgs/illumina_4/643KLPN...</td>\n",
       "      <td>/atium/Data/Nanopore/cpowgs/illumina_4/643KLPN...</td>\n",
       "    </tr>\n",
       "    <tr>\n",
       "      <th>118</th>\n",
       "      <td>118</td>\n",
       "      <td>645</td>\n",
       "      <td>Non-CP</td>\n",
       "      <td></td>\n",
       "      <td>ST-14</td>\n",
       "      <td></td>\n",
       "      <td>2018</td>\n",
       "      <td></td>\n",
       "      <td>klpn_spades/645/scaffolds.fasta</td>\n",
       "      <td>/atium/Data/Nanopore/cpowgs/illumina_4/645KLPN...</td>\n",
       "      <td>/atium/Data/Nanopore/cpowgs/illumina_4/645KLPN...</td>\n",
       "    </tr>\n",
       "    <tr>\n",
       "      <th>119</th>\n",
       "      <td>119</td>\n",
       "      <td>647</td>\n",
       "      <td>CP</td>\n",
       "      <td>KPC-3</td>\n",
       "      <td>ST-258</td>\n",
       "      <td>Yes</td>\n",
       "      <td>2018</td>\n",
       "      <td>/atium/Data/Nanopore/cpowgs/assemblies/pilon/K...</td>\n",
       "      <td></td>\n",
       "      <td>/atium/Data/Nanopore/cpowgs/illumina_marcc/KLP...</td>\n",
       "      <td>/atium/Data/Nanopore/cpowgs/illumina_marcc/KLP...</td>\n",
       "    </tr>\n",
       "    <tr>\n",
       "      <th>120</th>\n",
       "      <td>120</td>\n",
       "      <td>648</td>\n",
       "      <td>Non-CP</td>\n",
       "      <td></td>\n",
       "      <td>ST-158</td>\n",
       "      <td></td>\n",
       "      <td>2018</td>\n",
       "      <td></td>\n",
       "      <td>klpn_spades/648/scaffolds.fasta</td>\n",
       "      <td>/atium/Data/Nanopore/cpowgs/illumina_4/648KLPN...</td>\n",
       "      <td>/atium/Data/Nanopore/cpowgs/illumina_4/648KLPN...</td>\n",
       "    </tr>\n",
       "  </tbody>\n",
       "</table>\n",
       "<p>121 rows × 11 columns</p>\n",
       "</div>"
      ],
      "text/plain": [
       "     Unnamed: 0   id      cp cp_gene    mlst repA  year  \\\n",
       "0             0    6      CP   KPC-3   ST-16  Yes  2016   \n",
       "1             1    9      CP   KPC-2  ST-258       2016   \n",
       "2             2   16  Non-CP          ST-268       2016   \n",
       "3             3   19      CP   KPC-3   ST-11  Yes  2016   \n",
       "4             4   21  Non-CP           ST-17       2016   \n",
       "..          ...  ...     ...     ...     ...  ...   ...   \n",
       "116         116  640      CP   KPC-2  ST-258  Yes  2018   \n",
       "117         117  643  Non-CP           ST-15       2018   \n",
       "118         118  645  Non-CP           ST-14       2018   \n",
       "119         119  647      CP   KPC-3  ST-258  Yes  2018   \n",
       "120         120  648  Non-CP          ST-158       2018   \n",
       "\n",
       "                                                 pilon  \\\n",
       "0    /atium/Data/Nanopore/cpowgs/assemblies/pilon/K...   \n",
       "1    /atium/Data/Nanopore/cpowgs/assemblies/pilon/K...   \n",
       "2    /atium/Data/Nanopore/cpowgs/assemblies/pilon/K...   \n",
       "3    /atium/Data/Nanopore/cpowgs/assemblies/pilon/K...   \n",
       "4    /atium/Data/Nanopore/cpowgs/assemblies/pilon/K...   \n",
       "..                                                 ...   \n",
       "116  /atium/Data/Nanopore/cpowgs/assemblies/pilon/K...   \n",
       "117                                                      \n",
       "118                                                      \n",
       "119  /atium/Data/Nanopore/cpowgs/assemblies/pilon/K...   \n",
       "120                                                      \n",
       "\n",
       "                              spades  \\\n",
       "0                                      \n",
       "1                                      \n",
       "2                                      \n",
       "3                                      \n",
       "4                                      \n",
       "..                               ...   \n",
       "116                                    \n",
       "117  klpn_spades/643/scaffolds.fasta   \n",
       "118  klpn_spades/645/scaffolds.fasta   \n",
       "119                                    \n",
       "120  klpn_spades/648/scaffolds.fasta   \n",
       "\n",
       "                                                 illR1  \\\n",
       "0    /atium/Data/Nanopore/cpowgs/illumina_marcc/KLP...   \n",
       "1    /atium/Data/Nanopore/cpowgs/illumina_marcc/KLP...   \n",
       "2    /atium/Data/Nanopore/cpowgs/illumina_marcc/KLP...   \n",
       "3    /atium/Data/Nanopore/cpowgs/illumina_marcc/KLP...   \n",
       "4    /atium/Data/Nanopore/cpowgs/illumina_marcc/KLP...   \n",
       "..                                                 ...   \n",
       "116  /atium/Data/Nanopore/cpowgs/illumina_marcc/KLP...   \n",
       "117  /atium/Data/Nanopore/cpowgs/illumina_4/643KLPN...   \n",
       "118  /atium/Data/Nanopore/cpowgs/illumina_4/645KLPN...   \n",
       "119  /atium/Data/Nanopore/cpowgs/illumina_marcc/KLP...   \n",
       "120  /atium/Data/Nanopore/cpowgs/illumina_4/648KLPN...   \n",
       "\n",
       "                                                 illR2  \n",
       "0    /atium/Data/Nanopore/cpowgs/illumina_marcc/KLP...  \n",
       "1    /atium/Data/Nanopore/cpowgs/illumina_marcc/KLP...  \n",
       "2    /atium/Data/Nanopore/cpowgs/illumina_marcc/KLP...  \n",
       "3    /atium/Data/Nanopore/cpowgs/illumina_marcc/KLP...  \n",
       "4    /atium/Data/Nanopore/cpowgs/illumina_marcc/KLP...  \n",
       "..                                                 ...  \n",
       "116  /atium/Data/Nanopore/cpowgs/illumina_marcc/KLP...  \n",
       "117  /atium/Data/Nanopore/cpowgs/illumina_4/643KLPN...  \n",
       "118  /atium/Data/Nanopore/cpowgs/illumina_4/645KLPN...  \n",
       "119  /atium/Data/Nanopore/cpowgs/illumina_marcc/KLP...  \n",
       "120  /atium/Data/Nanopore/cpowgs/illumina_4/648KLPN...  \n",
       "\n",
       "[121 rows x 11 columns]"
      ]
     },
     "execution_count": 124,
     "metadata": {},
     "output_type": "execute_result"
    }
   ],
   "source": [
    "fullmeta=pd.read_csv(\"~/scoary/klpn.csv\", keep_default_na=False)\n",
    "pheno=pd.read_csv(\"~/scoary/from_trish_edited.csv\", keep_default_na=False)\n",
    "fullmeta.replace(np.nan, '', regex=True)\n"
   ]
  },
  {
   "cell_type": "markdown",
   "metadata": {},
   "source": [
    "Make assembly label (I really should have done this in original script)"
   ]
  },
  {
   "cell_type": "code",
   "execution_count": 127,
   "metadata": {},
   "outputs": [],
   "source": [
    "fullmeta[\"label\"]=\"\"\n",
    "for index, sample in fullmeta.iterrows():\n",
    "    if sample.pilon:\n",
    "        fullmeta.loc[index, 'label']=\"klpn_pilon_\"+str(sample.id)\n",
    "    else:\n",
    "        if sample.spades:\n",
    "            fullmeta.loc[index, 'label']=\"klpn_spades_\"+str(sample.id)\n"
   ]
  },
  {
   "cell_type": "markdown",
   "metadata": {},
   "source": [
    "Do a join"
   ]
  },
  {
   "cell_type": "code",
   "execution_count": 130,
   "metadata": {},
   "outputs": [],
   "source": [
    "phenmeta=pd.merge(fullmeta, pheno, on=\"id\", how=\"left\")\n",
    "phenmeta=phenmeta[phenmeta.cef.notna()]"
   ]
  },
  {
   "cell_type": "markdown",
   "metadata": {},
   "source": [
    "Set the trait to 0 or 1 as requested by scoary"
   ]
  },
  {
   "cell_type": "code",
   "execution_count": 131,
   "metadata": {},
   "outputs": [],
   "source": [
    "phenmeta['cef_trait']=np.where(phenmeta.cef=='yes', 1, 0)"
   ]
  },
  {
   "cell_type": "markdown",
   "metadata": {},
   "source": [
    "get just relevant columns and output to csv"
   ]
  },
  {
   "cell_type": "code",
   "execution_count": 132,
   "metadata": {},
   "outputs": [],
   "source": [
    "outphen=phenmeta[['cef_trait', 'label']]"
   ]
  },
  {
   "cell_type": "code",
   "execution_count": 133,
   "metadata": {},
   "outputs": [],
   "source": [
    "outphen=outphen.set_index('label')"
   ]
  },
  {
   "cell_type": "code",
   "execution_count": 134,
   "metadata": {},
   "outputs": [],
   "source": [
    "outphen.index.name=''"
   ]
  },
  {
   "cell_type": "code",
   "execution_count": 135,
   "metadata": {},
   "outputs": [],
   "source": [
    "outphen.to_csv(\"~/scoary/pheno_proc.csv\")"
   ]
  },
  {
   "cell_type": "markdown",
   "metadata": {},
   "source": [
    "Ok - with processed csv in hand, run scoary:"
   ]
  },
  {
   "cell_type": "code",
   "execution_count": 139,
   "metadata": {},
   "outputs": [
    {
     "name": "stdout",
     "output_type": "stream",
     "text": [
      "==== Scoary started ====\n",
      "Command: /home/timp/miniconda3/envs/cpowgs/bin/scoary -g /atium/Data/Nanopore/cpowgs/trees/200811_timp_tree/pan_klpn/gene_presence_absence.csv -t /home/timp/scoary/pheno_proc.csv\n",
      "Reading gene presence absence file\n",
      "Creating Hamming distance matrix based on gene presence/absence\n",
      "Building UPGMA tree from distance matrix\n",
      "Reading traits file\n",
      "ERROR: Some isolates in your gene presence absence file were not represented in your traits file. These will count as MISSING data and will not be included.\n",
      "Finished loading files into memory.\n",
      "\n",
      "\n",
      "==== Performing statistics ====\n",
      "-- Filtration options --\n",
      "Individual (Naive):    0.05\n",
      "Collapse genes:    False\n",
      "\n",
      "\n",
      "Tallying genes and performing statistical analyses\n",
      "Gene-wise counting and Fisher's exact tests for trait: cef_trait\n",
      "100.00%\n",
      "Adding p-values adjusted for testing multiple hypotheses\n",
      "\n",
      "Storing results: cef_trait\n",
      "Calculating max number of contrasting pairs for each nominally significant gene\n",
      "100.00%\n",
      "Storing results to file\n",
      "\n",
      "\n",
      "==== Finished ====\n",
      "Checked a total of 57201 genes for associations to 1 trait(s). Total time used: 8 seconds.\n",
      "Scoary finished successfully, but with ERRORS. Please check your log file.\n"
     ]
    }
   ],
   "source": [
    "!scoary -g /atium/Data/Nanopore/cpowgs/trees/200811_timp_tree/pan_klpn/gene_presence_absence.csv -t ~/scoary/pheno_proc.csv"
   ]
  },
  {
   "cell_type": "code",
   "execution_count": 140,
   "metadata": {},
   "outputs": [],
   "source": [
    "!rclone sync ~/scoary/ dbox:/timplab_data/cpowgs/201104_scoary/\n"
   ]
  }
 ],
 "metadata": {
  "kernelspec": {
   "display_name": "Python 3",
   "language": "python",
   "name": "python3"
  },
  "language_info": {
   "codemirror_mode": {
    "name": "ipython",
    "version": 3
   },
   "file_extension": ".py",
   "mimetype": "text/x-python",
   "name": "python",
   "nbconvert_exporter": "python",
   "pygments_lexer": "ipython3",
   "version": "3.8.5"
  }
 },
 "nbformat": 4,
 "nbformat_minor": 4
}
