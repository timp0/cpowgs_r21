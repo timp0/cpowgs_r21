{
 "cells": [
  {
   "cell_type": "markdown",
   "metadata": {},
   "source": [
    "Ok - new tree with all isolates"
   ]
  },
  {
   "cell_type": "code",
   "execution_count": 1,
   "metadata": {},
   "outputs": [],
   "source": [
    "import glob\n",
    "import re"
   ]
  },
  {
   "cell_type": "markdown",
   "metadata": {},
   "source": [
    "Ok - trying to use prokka - roary to make a pangenome\n",
    "\n",
    "Made a conda environment conda create --name cpowgs\n",
    "Then conda install -c conda-forge -c bioconda -c defaults prokka\n",
    "then\n",
    "conda config --add channels r\\\n",
    "conda config --add channels defaults\\\n",
    "conda config --add channels conda-forge\\\n",
    "conda config --add channels bioconda\\\n",
    "conda install roary\\\n",
    "then\\\n",
    "conda install jupyterlab (I know, wrong order)\\\n",
    "then\\\n",
    "conda install raxml\\\n",
    "then\\\n",
    "conda install snp-sites\\\n",
    "then\\\n",
    "conda install pandas\\\n",
    "then\\\n",
    "conda install rpy2\\\n",
    "then\\\n",
    "conda install r-tidyverse\\"
   ]
  },
  {
   "cell_type": "code",
   "execution_count": 2,
   "metadata": {},
   "outputs": [
    {
     "name": "stdout",
     "output_type": "stream",
     "text": [
      "/atium/Data/Nanopore/cpowgs/trees/200811_timp_tree\n"
     ]
    }
   ],
   "source": [
    "%cd /atium/Data/Nanopore/cpowgs/trees/200811_timp_tree"
   ]
  },
  {
   "cell_type": "markdown",
   "metadata": {},
   "source": [
    "Ok - I need to pull down the genbank files for Enterobacter cloacae: https://ftp.ncbi.nlm.nih.gov/genomes/all/GCF/000/025/565/GCF_000025565.1_ASM2556v1/GCF_000025565.1_ASM2556v1_genomic.gbff.gz\n",
    "E. Coli: https://ftp.ncbi.nlm.nih.gov/genomes/all/GCF/000/005/845/GCF_000005845.2_ASM584v2/GCF_000005845.2_ASM584v2_genomic.gbff.gz\n",
    "and K. Pneumo: https://ftp.ncbi.nlm.nih.gov/genomes/all/GCF/000/240/185/GCF_000240185.1_ASM24018v2/GCF_000240185.1_ASM24018v2_genomic.gbff.gz"
   ]
  },
  {
   "cell_type": "code",
   "execution_count": 3,
   "metadata": {},
   "outputs": [
    {
     "name": "stdout",
     "output_type": "stream",
     "text": [
      "/atium/Data/Nanopore/cpowgs/trees/200811_timp_tree/refs\n",
      "--2020-08-11 08:47:29--  https://ftp.ncbi.nlm.nih.gov/genomes/all/GCF/000/005/845/GCF_000005845.2_ASM584v2/GCF_000005845.2_ASM584v2_genomic.gbff.gz\n",
      "Resolving ftp.ncbi.nlm.nih.gov (ftp.ncbi.nlm.nih.gov)... 130.14.250.13, 2607:f220:41e:250::7, 2607:f220:41e:250::13, ...\n",
      "Connecting to ftp.ncbi.nlm.nih.gov (ftp.ncbi.nlm.nih.gov)|130.14.250.13|:443... connected.\n",
      "HTTP request sent, awaiting response... 200 OK\n",
      "Length: 3462090 (3.3M) [application/x-gzip]\n",
      "Saving to: ‘GCF_000005845.2_ASM584v2_genomic.gbff.gz’\n",
      "\n",
      "GCF_000005845.2_ASM 100%[===================>]   3.30M  9.27MB/s    in 0.4s    \n",
      "\n",
      "2020-08-11 08:47:29 (9.27 MB/s) - ‘GCF_000005845.2_ASM584v2_genomic.gbff.gz’ saved [3462090/3462090]\n",
      "\n",
      "--2020-08-11 08:47:30--  https://ftp.ncbi.nlm.nih.gov/genomes/all/GCF/000/025/565/GCF_000025565.1_ASM2556v1/GCF_000025565.1_ASM2556v1_genomic.gbff.gz\n",
      "Resolving ftp.ncbi.nlm.nih.gov (ftp.ncbi.nlm.nih.gov)... 130.14.250.13, 2607:f220:41e:250::7, 2607:f220:41e:250::11, ...\n",
      "Connecting to ftp.ncbi.nlm.nih.gov (ftp.ncbi.nlm.nih.gov)|130.14.250.13|:443... connected.\n",
      "HTTP request sent, awaiting response... 200 OK\n",
      "Length: 4051493 (3.9M) [application/x-gzip]\n",
      "Saving to: ‘GCF_000025565.1_ASM2556v1_genomic.gbff.gz’\n",
      "\n",
      "GCF_000025565.1_ASM 100%[===================>]   3.86M  22.1MB/s    in 0.2s    \n",
      "\n",
      "2020-08-11 08:47:30 (22.1 MB/s) - ‘GCF_000025565.1_ASM2556v1_genomic.gbff.gz’ saved [4051493/4051493]\n",
      "\n",
      "--2020-08-11 08:47:31--  https://ftp.ncbi.nlm.nih.gov/genomes/all/GCF/000/240/185/GCF_000240185.1_ASM24018v2/GCF_000240185.1_ASM24018v2_genomic.gbff.gz\n",
      "Resolving ftp.ncbi.nlm.nih.gov (ftp.ncbi.nlm.nih.gov)... 130.14.250.12, 2607:f220:41e:250::13, 2607:f220:41e:250::12, ...\n",
      "Connecting to ftp.ncbi.nlm.nih.gov (ftp.ncbi.nlm.nih.gov)|130.14.250.12|:443... connected.\n",
      "HTTP request sent, awaiting response... 200 OK\n",
      "Length: 4011962 (3.8M) [application/x-gzip]\n",
      "Saving to: ‘GCF_000240185.1_ASM24018v2_genomic.gbff.gz’\n",
      "\n",
      "GCF_000240185.1_ASM 100%[===================>]   3.83M  18.2MB/s    in 0.2s    \n",
      "\n",
      "2020-08-11 08:47:31 (18.2 MB/s) - ‘GCF_000240185.1_ASM24018v2_genomic.gbff.gz’ saved [4011962/4011962]\n",
      "\n",
      "/atium/Data/Nanopore/cpowgs/trees/200811_timp_tree\n"
     ]
    }
   ],
   "source": [
    "%mkdir refs\n",
    "%cd refs\n",
    "!wget https://ftp.ncbi.nlm.nih.gov/genomes/all/GCF/000/005/845/GCF_000005845.2_ASM584v2/GCF_000005845.2_ASM584v2_genomic.gbff.gz\n",
    "!gunzip *gz\n",
    "%mv *gbff ecoli_ref.gb\n",
    "!wget https://ftp.ncbi.nlm.nih.gov/genomes/all/GCF/000/025/565/GCF_000025565.1_ASM2556v1/GCF_000025565.1_ASM2556v1_genomic.gbff.gz\n",
    "!gunzip *gz\n",
    "%mv *gbff encl_ref.gb\n",
    "!wget https://ftp.ncbi.nlm.nih.gov/genomes/all/GCF/000/240/185/GCF_000240185.1_ASM24018v2/GCF_000240185.1_ASM24018v2_genomic.gbff.gz\n",
    "!gunzip *gz\n",
    "%mv *gbff kpn_ref.gb\n",
    "%cd .."
   ]
  }
 ],
 "metadata": {
  "kernelspec": {
   "display_name": "Python 3",
   "language": "python",
   "name": "python3"
  },
  "language_info": {
   "codemirror_mode": {
    "name": "ipython",
    "version": 3
   },
   "file_extension": ".py",
   "mimetype": "text/x-python",
   "name": "python",
   "nbconvert_exporter": "python",
   "pygments_lexer": "ipython3",
   "version": "3.7.6"
  }
 },
 "nbformat": 4,
 "nbformat_minor": 4
}
